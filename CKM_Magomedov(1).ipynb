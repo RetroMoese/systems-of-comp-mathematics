{
 "cells": [
  {
   "cell_type": "code",
   "execution_count": 2,
   "metadata": {
    "collapsed": false
   },
   "outputs": [
   ],
   "source": [
    "#Подключаю библиотеки\n",
    "import matplotlib.pyplot as plt\n",
    "from scipy.optimize import curve_fit\n",
    "import numpy as np"
   ]
  },
  {
   "cell_type": "code",
   "execution_count": 3,
   "metadata": {
    "collapsed": false
   },
   "outputs": [
   ],
   "source": [
    "#Задаю аппроксимирующие функции\n",
    "def func(x, a, b, c):\n",
    "    return a/(1 + b*np.exp(-c * x))\n",
    "def func1(x, a, b, c, d):\n",
    "    return a/(1+b*np.exp(-c * x))**(1/d)"
   ]
  },
  {
   "cell_type": "code",
   "execution_count": 4,
   "metadata": {
    "collapsed": false
   },
   "outputs": [
   ],
   "source": [
    "#Задаю  начальные данные\n",
    "xdata = np.arange(1,16,1)\n",
    "ydata = [16.08,33.83,65.80,97.20,191.55,326.20,386.87,520.53,590.03,651.92,724.93,699.56,689.96,637.56,717.41]"
   ]
  },
  {
   "cell_type": "code",
   "execution_count": 6,
   "metadata": {
    "collapsed": false
   },
   "outputs": [
    {
     "name": "stdout",
     "output_type": "stream",
     "text": [
      "[[ 2.65784873e+02 -3.81195809e+03 -2.02608082e+00 -5.87427199e+00]\n",
      " [-3.81195809e+03  1.66109493e+05  7.87563724e+01  2.74923076e+02]\n",
      " [-2.02608082e+00  7.87563724e+01  3.82754130e-02  1.26967287e-01]\n",
      " [-5.87427199e+00  2.74923076e+02  1.26967287e-01  4.72733643e-01]]\n"
     ]
    },
    {
     "name": "stderr",
     "output_type": "stream",
     "text": [
      "C:\\ProgramData\\Anaconda3\\lib\\site-packages\\ipykernel_launcher.py:5: RuntimeWarning: divide by zero encountered in true_divide\n",
      "  \"\"\"\n"
     ]
    }
   ],
   "source": [
    "#кёрв фит возвращает два массива, поэтому присваивать надо двум переменным, первая-неизвестные коэффициенты а, б, с, вторая- неважно, не используется\n",
    "popt, pcov = curve_fit(func, xdata, ydata)\n",
    "popt1, pcov1 = curve_fit(func1, xdata, ydata)\n",
    "print(pcov1)"
   ]
  },
  {
   "cell_type": "code",
   "execution_count": 31,
   "metadata": {
    "collapsed": false
   },
   "outputs": [
    {
     "data": {
      "text/plain": [
       "<matplotlib.legend.Legend at 0x29fcf792ac8>"
      ]
     },
     "execution_count": 31,
     "metadata": {
     },
     "output_type": "execute_result"
    },
    {
     "data": {
      "image/png": "[encoded data removed]",
      "text/plain": [
       "<Figure size 432x288 with 1 Axes>"
      ]
     },
     "execution_count": 31,
     "metadata": {
      "needs_background": "light"
     },
     "output_type": "execute_result"
    }
   ],
   "source": [
    "#Рисуем\n",
    "\n",
    "plt.plot(xdata,ydata, 'o')\n",
    "plt.title('Аппроксимация нелинейным мнк ')\n",
    "plt.plot(xdata, func(xdata, *popt), label = 'модель 3 параметров')\n",
    "plt.plot(xdata, func1(xdata, *popt1), label = 'модель 4 параметров')\n",
    "plt.xlabel('t')\n",
    "plt.ylabel('y')\n",
    "plt.grid()\n",
    "plt.legend()"
   ]
  },
  {
   "cell_type": "code",
   "execution_count": 9,
   "metadata": {
    "collapsed": false
   },
   "outputs": [
    {
     "data": {
      "text/plain": [
       "245.76407615395425"
      ]
     },
     "execution_count": 9,
     "metadata": {
     },
     "output_type": "execute_result"
    }
   ],
   "source": [
    "#манхетеннская норма-суммирую модули разностей в узлах\n",
    "sum(np.abs(func(xdata, *popt)-ydata))"
   ]
  },
  {
   "cell_type": "code",
   "execution_count": 10,
   "metadata": {
    "collapsed": false
   },
   "outputs": [
    {
     "data": {
      "text/plain": [
       "61.44522601096048"
      ]
     },
     "execution_count": 10,
     "metadata": {
     },
     "output_type": "execute_result"
    }
   ],
   "source": [
    "#чебышевская норма\n",
    "max(np.abs(func(xdata, *popt)-ydata))"
   ]
  },
  {
   "cell_type": "code",
   "execution_count": 12,
   "metadata": {
    "collapsed": false
   },
   "outputs": [
    {
     "data": {
      "text/plain": [
       "94.49805803644861"
      ]
     },
     "execution_count": 12,
     "metadata": {
     },
     "output_type": "execute_result"
    }
   ],
   "source": [
    "#Норма фробениуса через встроенную функцию\n",
    "np.linalg.norm(ydata-func(xdata, *popt))"
   ]
  },
  {
   "cell_type": "code",
   "execution_count": 0,
   "metadata": {
    "collapsed": false
   },
   "outputs": [
   ],
   "source": [
   ]
  }
 ],
 "metadata": {
  "kernelspec": {
   "display_name": "Python 3 (system-wide)",
   "language": "python",
   "metadata": {
    "cocalc": {
     "description": "Python 3 programming language",
     "priority": 100,
     "url": "https://www.python.org/"
    }
   },
   "name": "python3"
  },
  "language_info": {
   "codemirror_mode": {
    "name": "ipython",
    "version": 3
   },
   "file_extension": ".py",
   "mimetype": "text/x-python",
   "name": "python",
   "nbconvert_exporter": "python",
   "pygments_lexer": "ipython3",
   "version": "3.6.9"
  }
 },
 "nbformat": 4,
 "nbformat_minor": 4
}
